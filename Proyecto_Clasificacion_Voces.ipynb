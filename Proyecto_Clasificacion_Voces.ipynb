{
 "cells": [
  {
   "cell_type": "markdown",
   "metadata": {},
   "source": [
    "# Clasificación de Voces: Proyecto Gina Maritza Martinez"
   ]
  },
  {
   "cell_type": "code",
   "execution_count": 1,
   "metadata": {},
   "outputs": [],
   "source": [
    "import os\n",
    "import librosa\n",
    "import numpy as np"
   ]
  },
  {
   "cell_type": "markdown",
   "metadata": {},
   "source": [
    "## Cargar Audios"
   ]
  },
  {
   "cell_type": "code",
   "execution_count": 2,
   "metadata": {},
   "outputs": [],
   "source": [
    "# Cargar audios\n",
    "data_folder = 'Audios'\n",
    "file_paths = []\n",
    "labels = []\n",
    "\n",
    "for root, dirs, files in os.walk(data_folder):\n",
    "    for file in files:\n",
    "        if file.endswith('.wav'):\n",
    "            file_paths.append(os.path.join(root, file))\n",
    "            labels.append(os.path.basename(root))"
   ]
  },
  {
   "cell_type": "code",
   "execution_count": 3,
   "metadata": {},
   "outputs": [],
   "source": [
    "signals = []\n",
    "sample_rates = []\n",
    "\n",
    "for file_path in file_paths:\n",
    "    signal, fs = librosa.load(file_path, sr=None)\n",
    "    signals.append(signal)\n",
    "    sample_rates.append(fs)"
   ]
  },
  {
   "cell_type": "code",
   "execution_count": 4,
   "metadata": {},
   "outputs": [
    {
     "data": {
      "text/plain": [
       "['Gina',\n",
       " 'Gina',\n",
       " 'Gina',\n",
       " 'Gina',\n",
       " 'Gina',\n",
       " 'Gina',\n",
       " 'Gina',\n",
       " 'Gina',\n",
       " 'Gina',\n",
       " 'Gina',\n",
       " 'Luis',\n",
       " 'Luis',\n",
       " 'Luis',\n",
       " 'Luis',\n",
       " 'Luis',\n",
       " 'Luis',\n",
       " 'Luis',\n",
       " 'Luis',\n",
       " 'Luis',\n",
       " 'Luis',\n",
       " 'Unknown',\n",
       " 'Unknown',\n",
       " 'Unknown',\n",
       " 'Unknown',\n",
       " 'Unknown',\n",
       " 'Unknown',\n",
       " 'Unknown',\n",
       " 'Unknown',\n",
       " 'Unknown',\n",
       " 'Unknown',\n",
       " 'Unknown',\n",
       " 'Unknown']"
      ]
     },
     "execution_count": 4,
     "metadata": {},
     "output_type": "execute_result"
    }
   ],
   "source": [
    "labels"
   ]
  },
  {
   "cell_type": "markdown",
   "metadata": {},
   "source": [
    "# Preprocesamiento"
   ]
  },
  {
   "cell_type": "code",
   "execution_count": 5,
   "metadata": {},
   "outputs": [],
   "source": [
    "def extraer_coeffs(signal, fs, label: str):\n",
    "    window_length_ms = 30\n",
    "    overlap_length_ms = 25\n",
    "\n",
    "    melc = librosa.feature.mfcc(\n",
    "        y=signal, sr=fs, n_mfcc=14, window=\"hann\", win_length=window_length_ms, hop_length=overlap_length_ms\n",
    "    )\n",
    "\n",
    "    return melc.T, melc.shape[1] * [label]"
   ]
  },
  {
   "cell_type": "code",
   "execution_count": 6,
   "metadata": {},
   "outputs": [],
   "source": [
    "coeffs_y_labels = [extraer_coeffs(signals[i], sample_rates[i], labels[i]) for i in range(len(signals))]\n",
    "\n",
    "coeffs = [x[0] for x in coeffs_y_labels]\n",
    "coeffs_labels = [x[1] for x in coeffs_y_labels]"
   ]
  },
  {
   "cell_type": "code",
   "execution_count": 7,
   "metadata": {},
   "outputs": [
    {
     "name": "stdout",
     "output_type": "stream",
     "text": [
      "Unknown -> 0\n",
      "Luis -> 1\n",
      "Gina -> 2\n"
     ]
    },
    {
     "data": {
      "text/plain": [
       "{'Unknown': 0, 'Luis': 1, 'Gina': 2}"
      ]
     },
     "execution_count": 7,
     "metadata": {},
     "output_type": "execute_result"
    }
   ],
   "source": [
    "labelmapping = {}\n",
    "label2name = {}\n",
    "\n",
    "for i, label in enumerate(set(labels)):\n",
    "    print(label, '->', i)\n",
    "    labelmapping[label] = i\n",
    "    label2name[i] = label\n",
    "\n",
    "labelmapping"
   ]
  },
  {
   "cell_type": "code",
   "execution_count": 8,
   "metadata": {},
   "outputs": [],
   "source": [
    "X = np.row_stack(coeffs)\n",
    "Y = np.array([labelmapping[y] for x in coeffs_labels for y in x])"
   ]
  },
  {
   "cell_type": "code",
   "execution_count": 9,
   "metadata": {},
   "outputs": [
    {
     "data": {
      "text/plain": [
       "(105379, 14)"
      ]
     },
     "execution_count": 9,
     "metadata": {},
     "output_type": "execute_result"
    }
   ],
   "source": [
    "X.shape"
   ]
  },
  {
   "cell_type": "code",
   "execution_count": 10,
   "metadata": {},
   "outputs": [
    {
     "data": {
      "text/plain": [
       "(105379,)"
      ]
     },
     "execution_count": 10,
     "metadata": {},
     "output_type": "execute_result"
    }
   ],
   "source": [
    "Y.shape"
   ]
  },
  {
   "cell_type": "markdown",
   "metadata": {},
   "source": [
    "# Splittear Train y Test"
   ]
  },
  {
   "cell_type": "code",
   "execution_count": 11,
   "metadata": {},
   "outputs": [],
   "source": [
    "from sklearn.model_selection import train_test_split\n",
    "X_train, X_test, Y_train, Y_test = train_test_split(X, Y, test_size=0.2, random_state=69)"
   ]
  },
  {
   "cell_type": "code",
   "execution_count": 12,
   "metadata": {},
   "outputs": [],
   "source": [
    "from sklearn.preprocessing import StandardScaler"
   ]
  },
  {
   "cell_type": "code",
   "execution_count": 13,
   "metadata": {},
   "outputs": [],
   "source": [
    "scaler = StandardScaler()\n",
    "X_train_norm = scaler.fit_transform(X_train)\n",
    "X_test_norm = scaler.transform(X_test)"
   ]
  },
  {
   "cell_type": "markdown",
   "metadata": {},
   "source": [
    "## Entrenar Modelo"
   ]
  },
  {
   "cell_type": "code",
   "execution_count": 14,
   "metadata": {},
   "outputs": [],
   "source": [
    "from sklearn.neighbors import KNeighborsClassifier\n",
    "from sklearn.metrics import confusion_matrix, ConfusionMatrixDisplay"
   ]
  },
  {
   "cell_type": "code",
   "execution_count": 15,
   "metadata": {},
   "outputs": [
    {
     "data": {
      "text/plain": [
       "<sklearn.metrics._plot.confusion_matrix.ConfusionMatrixDisplay at 0x218bcd7dab0>"
      ]
     },
     "execution_count": 15,
     "metadata": {},
     "output_type": "execute_result"
    },
    {
     "data": {
      "image/png": "[encoded data removed]",
      "text/plain": [
       "<Figure size 640x480 with 2 Axes>"
      ]
     },
     "metadata": {},
     "output_type": "display_data"
    }
   ],
   "source": [
    "# Entrenar Clasificador\n",
    "classifier = KNeighborsClassifier(n_neighbors=5)\n",
    "classifier.fit(X_train_norm, Y_train)\n",
    "\n",
    "# Predecir test\n",
    "prediction = classifier.predict(X_test_norm)\n",
    "\n",
    "# matriz de confusión\n",
    "cm = confusion_matrix(Y_test, prediction)\n",
    "disp = ConfusionMatrixDisplay(confusion_matrix=cm, display_labels=classifier.classes_)\n",
    "disp.plot()\n"
   ]
  },
  {
   "cell_type": "code",
   "execution_count": 16,
   "metadata": {},
   "outputs": [
    {
     "name": "stdout",
     "output_type": "stream",
     "text": [
      "Accuracy 0.7908047067754792\n"
     ]
    }
   ],
   "source": [
    "print(f\"Accuracy {np.count_nonzero(Y_test == prediction)/ len(Y_test)}\")"
   ]
  },
  {
   "cell_type": "markdown",
   "metadata": {},
   "source": [
    "## Predicción de Cualquier Audio"
   ]
  },
  {
   "cell_type": "code",
   "execution_count": 18,
   "metadata": {},
   "outputs": [],
   "source": [
    "def predict_file(fpath):\n",
    "    signal, sampling_rate = librosa.load(fpath, sr=None)\n",
    "    feats, _ = extraer_coeffs(signal, sampling_rate, '')\n",
    "\n",
    "    to_predict = scaler.transform(feats)\n",
    "    predicted = classifier.predict(to_predict)\n",
    "\n",
    "    value_counts = {}\n",
    "    for value in np.unique(predicted):\n",
    "        value_counts[value] = np.count_nonzero(predicted == value)\n",
    "\n",
    "    predicted_label = label2name[max(value_counts, key=value_counts.get)]\n",
    "    return predicted_label\n"
   ]
  },
  {
   "cell_type": "code",
   "execution_count": 19,
   "metadata": {},
   "outputs": [
    {
     "data": {
      "text/plain": [
       "'Luis'"
      ]
     },
     "execution_count": 19,
     "metadata": {},
     "output_type": "execute_result"
    }
   ],
   "source": [
    "predict_file('audio_luis.wav')"
   ]
  }
 ],
 "metadata": {
  "kernelspec": {
   "display_name": "Python 3",
   "language": "python",
   "name": "python3"
  },
  "language_info": {
   "codemirror_mode": {
    "name": "ipython",
    "version": 3
   },
   "file_extension": ".py",
   "mimetype": "text/x-python",
   "name": "python",
   "nbconvert_exporter": "python",
   "pygments_lexer": "ipython3",
   "version": "3.10.6"
  }
 },
 "nbformat": 4,
 "nbformat_minor": 2
}
